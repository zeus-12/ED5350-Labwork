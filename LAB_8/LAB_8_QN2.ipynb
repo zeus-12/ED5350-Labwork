{
 "cells": [
  {
   "cell_type": "code",
   "execution_count": 1,
   "id": "34e5f14c",
   "metadata": {},
   "outputs": [
    {
     "name": "stdout",
     "output_type": "stream",
     "text": [
      "Critical Point Lies Between ( 2.9600000000000017 , 3.040000000000002 )\n",
      "Critical Point at 2.9800000000000018\n",
      "Critical Point at 3.0\n"
     ]
    }
   ],
   "source": [
    "def fn(w):\n",
    "    if w == 0:\n",
    "        return 2**31\n",
    "    return w*w + (54/w)\n",
    "\n",
    "\n",
    "def deriFn(w):\n",
    "    if w == 0:\n",
    "        return 2**31\n",
    "    return 2*w - (54/(w*w))\n",
    "\n",
    "\n",
    "def doubleDeriFn(w):\n",
    "    if w == 0:\n",
    "        return 2**31\n",
    "    return 2 + (108/(w*w*w))\n",
    "\n",
    "\n",
    "a,b,n = 1.0,5.0,100.0\n",
    "\n",
    "d = (b-a)/n\n",
    "w1 = a\n",
    "w2 = w1 + d\n",
    "w3 = w2 + d\n",
    "\n",
    "while True:\n",
    "    if fn(w1) >= fn(w2) and fn(w2) <= fn(w3):\n",
    "        print(\"Critical Point Lies Between (\", w1, \",\", w3, \")\")\n",
    "        break\n",
    "    else:\n",
    "        w1 = w2\n",
    "        w2 = w3\n",
    "        w3 += d\n",
    "        if w3 > b:\n",
    "            print(\"No Critical Point Exists\")\n",
    "            flag = 1\n",
    "            break\n",
    "\n",
    "x = w1\n",
    "y = w3\n",
    "\n",
    "while True:\n",
    "    mid = (x+y)/2\n",
    "    temp = deriFn(mid)\n",
    "    if temp < 10**(-15):\n",
    "        print(\"Critical Point at\", mid)\n",
    "        break\n",
    "    elif int(temp/abs(temp)) == int(deriFn(x)/abs(deriFn(x))):\n",
    "        x = mid\n",
    "    else:\n",
    "        y = mid\n",
    "\n",
    "\n",
    "w1 = 1.0\n",
    "e = 10**(-15)\n",
    "\n",
    "while abs(deriFn(w1)) > e:\n",
    "    w2 = w1 - deriFn(w1)/doubleDeriFn(w1)\n",
    "    w1 = w2\n",
    "print(\"Critical Point at\", w1)"
   ]
  }
 ],
 "metadata": {
  "kernelspec": {
   "display_name": "Python 3.10.4",
   "language": "python",
   "name": "python3"
  },
  "language_info": {
   "codemirror_mode": {
    "name": "ipython",
    "version": 3
   },
   "file_extension": ".py",
   "mimetype": "text/x-python",
   "name": "python",
   "nbconvert_exporter": "python",
   "pygments_lexer": "ipython3",
   "version": "3.10.4"
  },
  "vscode": {
   "interpreter": {
    "hash": "13a22723796b12e7e82b1f6acb8945a5d96535045cb69487ae78b0f7b2f3c1e5"
   }
  }
 },
 "nbformat": 4,
 "nbformat_minor": 5
}
